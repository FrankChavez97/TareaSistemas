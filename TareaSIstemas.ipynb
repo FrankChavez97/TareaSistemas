{
 "cells": [
  {
   "cell_type": "code",
   "execution_count": 11,
   "metadata": {},
   "outputs": [
    {
     "name": "stdout",
     "output_type": "stream",
     "text": [
      "\u001b[01;34m/\u001b[00m\n",
      "├── \u001b[01;34mbin\u001b[00m\n",
      "├── \u001b[01;34mboot\u001b[00m\n",
      "├── \u001b[01;34mcdrom\u001b[00m\n",
      "├── \u001b[01;34mdev\u001b[00m\n",
      "├── \u001b[01;34metc\u001b[00m\n",
      "├── \u001b[01;34mhome\u001b[00m\n",
      "├── \u001b[01;36minitrd.img\u001b[00m -> boot/initrd.img-4.15.0-29-generic\n",
      "├── \u001b[01;36minitrd.img.old\u001b[00m -> boot/initrd.img-4.15.0-29-generic\n",
      "├── \u001b[01;34mlib\u001b[00m\n",
      "├── \u001b[01;34mlib64\u001b[00m\n",
      "├── \u001b[01;34mlost+found\u001b[00m\n",
      "├── \u001b[01;34mmedia\u001b[00m\n",
      "├── \u001b[01;34mmnt\u001b[00m\n",
      "├── \u001b[01;34mopt\u001b[00m\n",
      "├── \u001b[01;34mproc\u001b[00m\n",
      "├── \u001b[01;34mroot\u001b[00m\n",
      "├── \u001b[01;34mrun\u001b[00m\n",
      "├── \u001b[01;34msbin\u001b[00m\n",
      "├── \u001b[01;34msnap\u001b[00m\n",
      "├── \u001b[01;34msrv\u001b[00m\n",
      "├── swapfile\n",
      "├── \u001b[01;34msys\u001b[00m\n",
      "├── \u001b[30;42mtmp\u001b[00m\n",
      "├── \u001b[01;34musr\u001b[00m\n",
      "├── \u001b[01;34mvar\u001b[00m\n",
      "└── \u001b[01;36mvmlinuz\u001b[00m -> boot/vmlinuz-4.15.0-29-generic\n",
      "\n",
      "22 directories, 4 files\n"
     ]
    }
   ],
   "source": [
    "tree -L 1 /"
   ]
  },
  {
   "cell_type": "code",
   "execution_count": 14,
   "metadata": {},
   "outputs": [
    {
     "name": "stdout",
     "output_type": "stream",
     "text": [
      "\u001b[01;34m/home/francisco\u001b[00m\n",
      "├── \u001b[01;34manaconda3\u001b[00m\n",
      "├── \u001b[01;34mDesktop\u001b[00m\n",
      "├── \u001b[01;34mDocuments\u001b[00m\n",
      "├── \u001b[01;34mDownloads\u001b[00m\n",
      "├── examples.desktop\n",
      "├── \u001b[01;34mMusic\u001b[00m\n",
      "├── \u001b[01;34mnotebookProj\u001b[00m\n",
      "├── \u001b[01;34mPictures\u001b[00m\n",
      "├── \u001b[01;34mPublic\u001b[00m\n",
      "├── \u001b[01;34msnap\u001b[00m\n",
      "├── \u001b[01;34mTemplates\u001b[00m\n",
      "├── Untitled1.ipynb\n",
      "├── Untitled.ipynb\n",
      "└── \u001b[01;34mVideos\u001b[00m\n",
      "\n",
      "11 directories, 3 files\n"
     ]
    }
   ],
   "source": [
    "\n",
    "#your home directory is\n",
    "tree -L 1 $HOME"
   ]
  },
  {
   "cell_type": "code",
   "execution_count": 15,
   "metadata": {},
   "outputs": [
    {
     "name": "stdout",
     "output_type": "stream",
     "text": [
      "\u001b[01;34m/home/francisco\u001b[00m\n",
      "├── \u001b[01;34manaconda3\u001b[00m\n",
      "├── \u001b[01;34mDesktop\u001b[00m\n",
      "├── \u001b[01;34mDocuments\u001b[00m\n",
      "├── \u001b[01;34mDownloads\u001b[00m\n",
      "├── examples.desktop\n",
      "├── \u001b[01;34mMusic\u001b[00m\n",
      "├── \u001b[01;34mmysrc\u001b[00m\n",
      "├── \u001b[01;34mnotebookProj\u001b[00m\n",
      "├── \u001b[01;34mPictures\u001b[00m\n",
      "├── \u001b[01;34mPublic\u001b[00m\n",
      "├── \u001b[01;34msnap\u001b[00m\n",
      "├── \u001b[01;34mTemplates\u001b[00m\n",
      "├── Untitled1.ipynb\n",
      "├── Untitled.ipynb\n",
      "└── \u001b[01;34mVideos\u001b[00m\n",
      "\n",
      "12 directories, 3 files\n"
     ]
    }
   ],
   "source": [
    "tree -L 1 $HOME\n"
   ]
  },
  {
   "cell_type": "markdown",
   "metadata": {},
   "source": [
    "working_dir=logs\n",
    "mkdri $working_dir\n"
   ]
  },
  {
   "cell_type": "code",
   "execution_count": 20,
   "metadata": {},
   "outputs": [
    {
     "name": "stdout",
     "output_type": "stream",
     "text": [
      "\u001b[0m\u001b[01;31mpart-00000-of-00500.csv.gz\u001b[0m  \u001b[01;31mpart-00001-of-00500.csv.gz\u001b[0m\n",
      "\u001b[01;31mpart-00002-of-00500.csv.gz\u001b[0m\n"
     ]
    }
   ],
   "source": [
    "ls -AS logs/"
   ]
  },
  {
   "cell_type": "code",
   "execution_count": 24,
   "metadata": {},
   "outputs": [
    {
     "name": "stdout",
     "output_type": "stream",
     "text": [
      "bash: fg: %%bash: no such job\n",
      "\u001b[0m\u001b[01;31mpart-00000-of-00500.csv.gz\u001b[0m  \u001b[01;31mpart-00001-of-00500.csv.gz\u001b[0m\n",
      "\u001b[01;31mpart-00002-of-00500.csv.gz\u001b[0m\n"
     ]
    }
   ],
   "source": [
    "%%bash  --out log_file_names --err error\n",
    "ls -AS logs"
   ]
  },
  {
   "cell_type": "code",
   "execution_count": 24,
   "metadata": {},
   "outputs": [
    {
     "name": "stdout",
     "output_type": "stream",
     "text": [
      "bash: fg: %%bash: no such job\n",
      "\u001b[0m\u001b[01;31mpart-00000-of-00500.csv.gz\u001b[0m  \u001b[01;31mpart-00001-of-00500.csv.gz\u001b[0m\n",
      "\u001b[01;31mpart-00002-of-00500.csv.gz\u001b[0m\n"
     ]
    }
   ],
   "source": [
    "%%bash  --out log_file_names --err error\n",
    "ls -AS logs"
   ]
  },
  {
   "cell_type": "code",
   "execution_count": 30,
   "metadata": {},
   "outputs": [],
   "source": [
    "file=/home/francisco/logs/part-00000-of-00500.csv.gz\n",
    "xpath=${file%/*}\n",
    "xbase=${file##*/}\n",
    "xfext=${xbase##*.}\n",
    "xpref=${xbase%.*}\n",
    "\n",
    "\n",
    "\n"
   ]
  },
  {
   "cell_type": "code",
   "execution_count": 32,
   "metadata": {},
   "outputs": [
    {
     "name": "stdout",
     "output_type": "stream",
     "text": [
      "total 6728\n",
      "drwxr-xr-x  2 francisco francisco    4096 ago 18 20:11 \u001b[0m\u001b[01;34m.\u001b[0m\n",
      "drwxr-xr-x 27 francisco francisco    4096 ago 18 23:52 \u001b[01;34m..\u001b[0m\n",
      "-rw-rw-r--  1 francisco francisco 4128899 ago 18 17:44 \u001b[01;31mpart-00000-of-00500.csv.gz\u001b[0m\n",
      "-rw-rw-r--  1 francisco francisco  924634 ago 18 17:45 \u001b[01;31mpart-00001-of-00500.csv.gz\u001b[0m\n",
      "-rw-rw-r--  1 francisco francisco 1821031 ago 18 17:46 \u001b[01;31mpart-00002-of-00500.csv.gz\u001b[0m\n"
     ]
    }
   ],
   "source": [
    "ls -al logs/"
   ]
  },
  {
   "cell_type": "code",
   "execution_count": 4,
   "metadata": {},
   "outputs": [
    {
     "name": "stdout",
     "output_type": "stream",
     "text": [
      "\n",
      ".\n",
      "..\n",
      "part-00000-of-00500.csv.gz\n",
      "part-00001-of-00500.csv.gz\n",
      "part-00002-of-00500.csv.gz\n"
     ]
    }
   ],
   "source": [
    "ls -al logs/ | awk '{split($0,f);  print f[9];}'"
   ]
  },
  {
   "cell_type": "code",
   "execution_count": 6,
   "metadata": {},
   "outputs": [
    {
     "name": "stdout",
     "output_type": "stream",
     "text": [
      "1.3043e+12\n",
      "1.3043e+12\n",
      "1.3043e+12\n",
      "1.3043e+12\n",
      "1.3043e+12\n",
      "1.3043e+12\n",
      "1.3043e+12\n",
      "1.3043e+12\n",
      "1.3043e+12\n",
      "1.3043e+12\n",
      "\n",
      "gzip: stdout: Broken pipe\n"
     ]
    }
   ],
   "source": [
    "zcat logs/part-00000-of-00500.csv.gz | head | awk '{split($0,f);  print f[0] + 1304301600000;}'"
   ]
  },
  {
   "cell_type": "code",
   "execution_count": null,
   "metadata": {},
   "outputs": [],
   "source": []
  }
 ],
 "metadata": {
  "kernelspec": {
   "display_name": "Bash",
   "language": "bash",
   "name": "bash"
  },
  "language_info": {
   "codemirror_mode": "shell",
   "file_extension": ".sh",
   "mimetype": "text/x-sh",
   "name": "bash"
  }
 },
 "nbformat": 4,
 "nbformat_minor": 2
}
